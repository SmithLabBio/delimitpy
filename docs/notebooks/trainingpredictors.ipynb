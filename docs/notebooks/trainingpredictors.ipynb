{
 "cells": [
  {
   "cell_type": "markdown",
   "metadata": {},
   "source": [
    "# Train Classifiers\n",
    "\n",
    "Now, we are ready to train our classifiers. delimitpy has several options for classifiers:\n",
    "* A Random Forest Classifier trained on the bins of the multi-dimensional SFS.\n",
    "* A Fully Connected Neural Network trained on the bins of the multi-dimensional SFS.\n",
    "* A Convolutional Neural Network trained on 2-dimensional SFS."
   ]
  },
  {
   "cell_type": "code",
   "execution_count": 1,
   "metadata": {},
   "outputs": [
    {
     "name": "stderr",
     "output_type": "stream",
     "text": [
      "2024-04-01 08:23:28.380507: I tensorflow/core/platform/cpu_feature_guard.cc:193] This TensorFlow binary is optimized with oneAPI Deep Neural Network Library (oneDNN) to use the following CPU instructions in performance-critical operations:  SSE4.1 SSE4.2 AVX AVX2 FMA\n",
      "To enable them in other operations, rebuild TensorFlow with the appropriate compiler flags.\n"
     ]
    }
   ],
   "source": [
    "from delimitpy import build_predictors\n",
    "from delimitpy import parse_input\n",
    "import os\n",
    "import pickle\n",
    "import numpy as np"
   ]
  },
  {
   "cell_type": "markdown",
   "metadata": {},
   "source": [
    "## Read the configuration file, and provide info from building models"
   ]
  },
  {
   "cell_type": "code",
   "execution_count": 2,
   "metadata": {},
   "outputs": [],
   "source": [
    "# read the configuration file\n",
    "config_parser = parse_input.ModelConfigParser(\"../../examples/test1/config.txt\")\n",
    "config_values = config_parser.parse_config()\n",
    "\n",
    "# read the labels and models from memory.\n",
    "labels = np.load(os.path.join(config_values[\"output directory\"], 'labels.npy'), allow_pickle=True)\n",
    "with open(os.path.join(config_values[\"output directory\"], 'parameterized_models.pickle'), 'rb') as f:\n",
    "    parameterized_models = pickle.load(f)\n",
    "\n",
    "# read the simulated data\n",
    "mSFS = np.load(os.path.join(config_values[\"output directory\"], 'mSFS.npy'), allow_pickle=True)\n",
    "with open(os.path.join(config_values[\"output directory\"], 'jSFS.pickle'), 'rb') as f:\n",
    "    jSFS = pickle.load(f)"
   ]
  },
  {
   "cell_type": "markdown",
   "metadata": {},
   "source": [
    "## Build the RF predictor \n",
    "\n",
    "Next, we build a Random Forest predictor using the bins of the multi-dimensional SFS as input."
   ]
  },
  {
   "cell_type": "code",
   "execution_count": 3,
   "metadata": {},
   "outputs": [
    {
     "name": "stdout",
     "output_type": "stream",
     "text": [
      "100 100\n",
      "(80, 441)\n",
      "Out-of-Bag (OOB) Error: 0.48750000000000004\n"
     ]
    },
    {
     "name": "stderr",
     "output_type": "stream",
     "text": [
      "/usr/local/Caskroom/miniconda/base/lib/python3.10/site-packages/sklearn/model_selection/_split.py:700: UserWarning: The least populated class in y has only 1 members, which is less than n_splits=2.\n",
      "  warnings.warn(\n"
     ]
    },
    {
     "name": "stdout",
     "output_type": "stream",
     "text": [
      "Cross-validation scores: [0.1 0.2]\n"
     ]
    },
    {
     "name": "stderr",
     "output_type": "stream",
     "text": [
      "/usr/local/Caskroom/miniconda/base/lib/python3.10/site-packages/sklearn/model_selection/_split.py:700: UserWarning: The least populated class in y has only 1 members, which is less than n_splits=2.\n",
      "  warnings.warn(\n"
     ]
    },
    {
     "name": "stdout",
     "output_type": "stream",
     "text": [
      "Confusion Matrix:\n",
      "[[1 0 0 0 1 0 0 0 0]\n",
      " [0 0 0 0 1 0 0 0 1]\n",
      " [0 0 0 0 0 1 0 0 0]\n",
      " [0 0 0 1 0 2 0 0 0]\n",
      " [1 0 0 0 1 0 0 0 0]\n",
      " [2 0 0 0 0 1 0 0 0]\n",
      " [1 0 0 0 0 0 0 0 1]\n",
      " [0 0 0 0 1 1 0 0 0]\n",
      " [0 0 1 1 0 0 0 0 1]]\n"
     ]
    }
   ],
   "source": [
    "random_forest_sfs_predictor = build_predictors.RandomForestsSFS(config_values, mSFS, labels)\n",
    "random_forest_sfs_model, random_forest_sfs_cm = random_forest_sfs_predictor.build_rf_sfs()"
   ]
  },
  {
   "cell_type": "markdown",
   "metadata": {},
   "source": [
    "# Build the CNN that takes 2D SFS as input\n",
    "cnn_2d_sfs_predictor = build_predictors.CnnSFS(config_values, sfs_2d, labels)\n",
    "cnn_2d_sfs_model, cnn_2d_sfs_cm = cnn_2d_sfs_predictor.build_cnn_sfs()"
   ]
  }
 ],
 "metadata": {
  "kernelspec": {
   "display_name": "base",
   "language": "python",
   "name": "python3"
  },
  "language_info": {
   "codemirror_mode": {
    "name": "ipython",
    "version": 3
   },
   "file_extension": ".py",
   "mimetype": "text/x-python",
   "name": "python",
   "nbconvert_exporter": "python",
   "pygments_lexer": "ipython3",
   "version": "3.10.8"
  }
 },
 "nbformat": 4,
 "nbformat_minor": 2
}
