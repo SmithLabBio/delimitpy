{
 "cells": [
  {
   "cell_type": "markdown",
   "metadata": {},
   "source": [
    "# Train Classifiers\n",
    "\n",
    "Now, we are ready to train our classifiers. delimitpy has several options for classifiers:\n",
    "* A Random Forest Classifier trained on the bins of the multi-dimensional SFS.\n",
    "* A Fully Connected Neural Network trained on the bins of the multi-dimensional SFS.\n",
    "* A Convolutional Neural Network trained on 2-dimensional SFS."
   ]
  },
  {
   "cell_type": "code",
   "execution_count": 1,
   "metadata": {},
   "outputs": [
    {
     "name": "stderr",
     "output_type": "stream",
     "text": [
      "2024-04-01 08:41:47.142357: I tensorflow/core/platform/cpu_feature_guard.cc:193] This TensorFlow binary is optimized with oneAPI Deep Neural Network Library (oneDNN) to use the following CPU instructions in performance-critical operations:  SSE4.1 SSE4.2 AVX AVX2 FMA\n",
      "To enable them in other operations, rebuild TensorFlow with the appropriate compiler flags.\n"
     ]
    }
   ],
   "source": [
    "from delimitpy import build_predictors\n",
    "from delimitpy import parse_input\n",
    "import os\n",
    "import pickle\n",
    "import numpy as np"
   ]
  },
  {
   "cell_type": "markdown",
   "metadata": {},
   "source": [
    "## Read the configuration file, and provide info from building models"
   ]
  },
  {
   "cell_type": "code",
   "execution_count": 8,
   "metadata": {},
   "outputs": [],
   "source": [
    "# read the configuration file\n",
    "config_parser = parse_input.ModelConfigParser(\"../../examples/test1/config.txt\")\n",
    "config_values = config_parser.parse_config()\n",
    "\n",
    "# read the labels and models from memory.\n",
    "labels = np.load(os.path.join(config_values[\"output directory\"], 'labels.npy'), allow_pickle=True)\n",
    "with open(os.path.join(config_values[\"output directory\"], 'parameterized_models.pickle'), 'rb') as f:\n",
    "    parameterized_models = pickle.load(f)\n",
    "\n",
    "# read the simulated data\n",
    "mSFS = np.load(os.path.join(config_values[\"output directory\"], 'mSFS.npy'), allow_pickle=True)\n",
    "with open(os.path.join(config_values[\"output directory\"], 'jSFS.pickle'), 'rb') as f:\n",
    "    jSFS = pickle.load(f)"
   ]
  },
  {
   "cell_type": "markdown",
   "metadata": {},
   "source": [
    "## Build the RF predictor \n",
    "\n",
    "Next, we build a Random Forest predictor using the bins of the multi-dimensional SFS as input."
   ]
  },
  {
   "cell_type": "code",
   "execution_count": null,
   "metadata": {},
   "outputs": [],
   "source": [
    "random_forest_sfs_predictor = build_predictors.RandomForestsSFS(config_values, mSFS, labels)\n",
    "random_forest_sfs_model, random_forest_sfs_cm = random_forest_sfs_predictor.build_rf_sfs()"
   ]
  },
  {
   "cell_type": "markdown",
   "metadata": {},
   "source": [
    "# Build the CNN that takes 2D SFS as input\n"
   ]
  },
  {
   "cell_type": "code",
   "execution_count": null,
   "metadata": {},
   "outputs": [],
   "source": [
    "cnn_2d_sfs_predictor = build_predictors.CnnSFS(config_values, jSFS, labels)\n",
    "cnn_2d_sfs_model, cnn_2d_sfs_cm = cnn_2d_sfs_predictor.build_cnn_sfs()"
   ]
  },
  {
   "cell_type": "markdown",
   "metadata": {},
   "source": [
    "## Build the FCNN that takes a mSFS as input"
   ]
  },
  {
   "cell_type": "code",
   "execution_count": 9,
   "metadata": {},
   "outputs": [
    {
     "name": "stdout",
     "output_type": "stream",
     "text": [
      "Epoch 1/10\n"
     ]
    },
    {
     "name": "stderr",
     "output_type": "stream",
     "text": [
      "2024-04-01 08:44:50.357865: I tensorflow/core/platform/cpu_feature_guard.cc:193] This TensorFlow binary is optimized with oneAPI Deep Neural Network Library (oneDNN) to use the following CPU instructions in performance-critical operations:  SSE4.1 SSE4.2 AVX AVX2 FMA\n",
      "To enable them in other operations, rebuild TensorFlow with the appropriate compiler flags.\n"
     ]
    },
    {
     "name": "stdout",
     "output_type": "stream",
     "text": [
      "8/8 [==============================] - 1s 25ms/step - loss: 5.9116 - accuracy: 0.1000 - val_loss: 4.2380 - val_accuracy: 0.0500\n",
      "Epoch 2/10\n",
      "8/8 [==============================] - 0s 4ms/step - loss: 2.2749 - accuracy: 0.3375 - val_loss: 3.3154 - val_accuracy: 0.1000\n",
      "Epoch 3/10\n",
      "8/8 [==============================] - 0s 4ms/step - loss: 1.3404 - accuracy: 0.5875 - val_loss: 2.9321 - val_accuracy: 0.1000\n",
      "Epoch 4/10\n",
      "8/8 [==============================] - 0s 4ms/step - loss: 0.7174 - accuracy: 0.8125 - val_loss: 2.9273 - val_accuracy: 0.1000\n",
      "Epoch 5/10\n",
      "8/8 [==============================] - 0s 4ms/step - loss: 0.4856 - accuracy: 0.8750 - val_loss: 2.6521 - val_accuracy: 0.2000\n",
      "Epoch 6/10\n",
      "8/8 [==============================] - 0s 4ms/step - loss: 0.3380 - accuracy: 0.9375 - val_loss: 2.5357 - val_accuracy: 0.2000\n",
      "Epoch 7/10\n",
      "8/8 [==============================] - 0s 4ms/step - loss: 0.2268 - accuracy: 0.9875 - val_loss: 2.5223 - val_accuracy: 0.2500\n",
      "Epoch 8/10\n",
      "8/8 [==============================] - 0s 4ms/step - loss: 0.1775 - accuracy: 0.9875 - val_loss: 2.5252 - val_accuracy: 0.2000\n",
      "Epoch 9/10\n",
      "8/8 [==============================] - 0s 4ms/step - loss: 0.1462 - accuracy: 0.9875 - val_loss: 2.4503 - val_accuracy: 0.2000\n",
      "Epoch 10/10\n",
      "8/8 [==============================] - 0s 4ms/step - loss: 0.1139 - accuracy: 1.0000 - val_loss: 2.4766 - val_accuracy: 0.2000\n",
      "1/1 [==============================] - 0s 74ms/step\n",
      "Confusion Matrix:\n",
      "[[2 0 0 0 0 0 0 0 0 0]\n",
      " [0 1 0 0 0 0 0 1 0 0]\n",
      " [1 0 0 0 0 0 0 0 0 0]\n",
      " [0 1 0 0 0 0 0 1 1 0]\n",
      " [0 0 1 0 1 0 0 0 0 0]\n",
      " [0 0 0 0 0 0 0 0 0 0]\n",
      " [0 0 0 0 0 1 0 0 2 0]\n",
      " [0 0 0 0 0 2 0 0 0 0]\n",
      " [0 1 0 0 0 0 0 1 0 0]\n",
      " [0 0 0 1 0 1 0 1 0 0]]\n"
     ]
    }
   ],
   "source": [
    "neural_network_sfs_predictor = build_predictors.NeuralNetSFS(config_values, mSFS, labels)\n",
    "neural_network_sfs_model, neural_network_sfs_cm = neural_network_sfs_predictor.build_neuralnet_sfs()"
   ]
  }
 ],
 "metadata": {
  "kernelspec": {
   "display_name": "base",
   "language": "python",
   "name": "python3"
  },
  "language_info": {
   "codemirror_mode": {
    "name": "ipython",
    "version": 3
   },
   "file_extension": ".py",
   "mimetype": "text/x-python",
   "name": "python",
   "nbconvert_exporter": "python",
   "pygments_lexer": "ipython3",
   "version": "3.10.8"
  }
 },
 "nbformat": 4,
 "nbformat_minor": 2
}
