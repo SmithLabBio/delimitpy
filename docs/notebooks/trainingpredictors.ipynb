{
 "cells": [
  {
   "cell_type": "markdown",
   "metadata": {},
   "source": [
    "# Train Classifiers\n",
    "\n",
    "Now, we are ready to train our classifiers. delimitpy has several options for classifiers:\n",
    "* A Random Forest Classifier trained on the bins of the multi-dimensional SFS.\n",
    "* A Fully Connected Neural Network trained on the bins of the multi-dimensional SFS.\n",
    "* A Convolutional Neural Network trained on 2-dimensional SFS."
   ]
  },
  {
   "cell_type": "code",
   "execution_count": 1,
   "metadata": {},
   "outputs": [
    {
     "name": "stderr",
     "output_type": "stream",
     "text": [
      "2024-04-01 08:37:03.758576: I tensorflow/core/platform/cpu_feature_guard.cc:193] This TensorFlow binary is optimized with oneAPI Deep Neural Network Library (oneDNN) to use the following CPU instructions in performance-critical operations:  SSE4.1 SSE4.2 AVX AVX2 FMA\n",
      "To enable them in other operations, rebuild TensorFlow with the appropriate compiler flags.\n"
     ]
    }
   ],
   "source": [
    "from delimitpy import build_predictors\n",
    "from delimitpy import parse_input\n",
    "import os\n",
    "import pickle\n",
    "import numpy as np"
   ]
  },
  {
   "cell_type": "markdown",
   "metadata": {},
   "source": [
    "## Read the configuration file, and provide info from building models"
   ]
  },
  {
   "cell_type": "code",
   "execution_count": 2,
   "metadata": {},
   "outputs": [],
   "source": [
    "# read the configuration file\n",
    "config_parser = parse_input.ModelConfigParser(\"../../examples/test1/config.txt\")\n",
    "config_values = config_parser.parse_config()\n",
    "\n",
    "# read the labels and models from memory.\n",
    "labels = np.load(os.path.join(config_values[\"output directory\"], 'labels.npy'), allow_pickle=True)\n",
    "with open(os.path.join(config_values[\"output directory\"], 'parameterized_models.pickle'), 'rb') as f:\n",
    "    parameterized_models = pickle.load(f)\n",
    "\n",
    "# read the simulated data\n",
    "mSFS = np.load(os.path.join(config_values[\"output directory\"], 'mSFS.npy'), allow_pickle=True)\n",
    "with open(os.path.join(config_values[\"output directory\"], 'jSFS.pickle'), 'rb') as f:\n",
    "    jSFS = pickle.load(f)"
   ]
  },
  {
   "cell_type": "markdown",
   "metadata": {},
   "source": [
    "## Build the RF predictor \n",
    "\n",
    "Next, we build a Random Forest predictor using the bins of the multi-dimensional SFS as input."
   ]
  },
  {
   "cell_type": "code",
   "execution_count": null,
   "metadata": {},
   "outputs": [],
   "source": [
    "random_forest_sfs_predictor = build_predictors.RandomForestsSFS(config_values, mSFS, labels)\n",
    "random_forest_sfs_model, random_forest_sfs_cm = random_forest_sfs_predictor.build_rf_sfs()"
   ]
  },
  {
   "cell_type": "markdown",
   "metadata": {},
   "source": [
    "# Build the CNN that takes 2D SFS as input\n"
   ]
  },
  {
   "cell_type": "code",
   "execution_count": 4,
   "metadata": {},
   "outputs": [
    {
     "name": "stdout",
     "output_type": "stream",
     "text": [
      "(80, 10) (20, 10)\n",
      "(80, 9, 7, 1)\n"
     ]
    },
    {
     "name": "stderr",
     "output_type": "stream",
     "text": [
      "2024-04-01 08:37:38.478108: I tensorflow/core/platform/cpu_feature_guard.cc:193] This TensorFlow binary is optimized with oneAPI Deep Neural Network Library (oneDNN) to use the following CPU instructions in performance-critical operations:  SSE4.1 SSE4.2 AVX AVX2 FMA\n",
      "To enable them in other operations, rebuild TensorFlow with the appropriate compiler flags.\n"
     ]
    },
    {
     "name": "stdout",
     "output_type": "stream",
     "text": [
      "Epoch 1/10\n",
      "8/8 [==============================] - 1s 29ms/step - loss: 6.3148 - accuracy: 0.0875 - val_loss: 4.4225 - val_accuracy: 0.1000\n",
      "Epoch 2/10\n",
      "8/8 [==============================] - 0s 5ms/step - loss: 2.4219 - accuracy: 0.3125 - val_loss: 4.0617 - val_accuracy: 0.1500\n",
      "Epoch 3/10\n",
      "8/8 [==============================] - 0s 5ms/step - loss: 1.1997 - accuracy: 0.6625 - val_loss: 3.2675 - val_accuracy: 0.3000\n",
      "Epoch 4/10\n",
      "8/8 [==============================] - 0s 5ms/step - loss: 0.6874 - accuracy: 0.7625 - val_loss: 2.8498 - val_accuracy: 0.4000\n",
      "Epoch 5/10\n",
      "8/8 [==============================] - 0s 5ms/step - loss: 0.4413 - accuracy: 0.8875 - val_loss: 2.8198 - val_accuracy: 0.4000\n",
      "Epoch 6/10\n",
      "8/8 [==============================] - 0s 5ms/step - loss: 0.3239 - accuracy: 0.8875 - val_loss: 2.8950 - val_accuracy: 0.3500\n",
      "Epoch 7/10\n",
      "8/8 [==============================] - 0s 5ms/step - loss: 0.2321 - accuracy: 0.9500 - val_loss: 2.8492 - val_accuracy: 0.4000\n",
      "Epoch 8/10\n",
      "8/8 [==============================] - 0s 5ms/step - loss: 0.1823 - accuracy: 0.9750 - val_loss: 2.8095 - val_accuracy: 0.3500\n",
      "Epoch 9/10\n",
      "8/8 [==============================] - 0s 5ms/step - loss: 0.1466 - accuracy: 0.9875 - val_loss: 2.7705 - val_accuracy: 0.4000\n",
      "Epoch 10/10\n",
      "8/8 [==============================] - 0s 5ms/step - loss: 0.1171 - accuracy: 1.0000 - val_loss: 2.8109 - val_accuracy: 0.4000\n",
      "1/1 [==============================] - 0s 96ms/step\n",
      "Confusion Matrix:\n",
      "[[1 0 0 0 0 0 0 0 0 0]\n",
      " [0 0 0 1 0 0 0 1 0 0]\n",
      " [1 0 0 1 1 0 1 0 0 0]\n",
      " [0 0 0 0 0 1 0 0 0 1]\n",
      " [1 0 0 1 2 0 0 0 0 0]\n",
      " [0 0 0 0 0 2 0 0 0 0]\n",
      " [0 0 0 0 0 0 1 0 0 0]\n",
      " [0 0 0 0 0 1 0 0 0 0]\n",
      " [0 0 0 0 0 0 0 0 2 0]\n",
      " [0 0 0 0 0 0 0 1 0 0]]\n"
     ]
    }
   ],
   "source": [
    "cnn_2d_sfs_predictor = build_predictors.CnnSFS(config_values, jSFS, labels)\n",
    "cnn_2d_sfs_model, cnn_2d_sfs_cm = cnn_2d_sfs_predictor.build_cnn_sfs()"
   ]
  }
 ],
 "metadata": {
  "kernelspec": {
   "display_name": "base",
   "language": "python",
   "name": "python3"
  },
  "language_info": {
   "codemirror_mode": {
    "name": "ipython",
    "version": 3
   },
   "file_extension": ".py",
   "mimetype": "text/x-python",
   "name": "python",
   "nbconvert_exporter": "python",
   "pygments_lexer": "ipython3",
   "version": "3.10.8"
  }
 },
 "nbformat": 4,
 "nbformat_minor": 2
}
