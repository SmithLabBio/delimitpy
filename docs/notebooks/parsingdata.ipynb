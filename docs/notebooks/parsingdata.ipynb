{
 "cells": [
  {
   "cell_type": "markdown",
   "metadata": {},
   "source": [
    "# Input Data\n",
    "\n",
    "This notebook contains an example of reading and parsing empirical data. For this tutorial, we use the data in example/test1. \n",
    "\n",
    "delimitR will require several inputs (listed below). We will discuss each of these in turn.\n",
    "\n",
    "**Empirical Data**\n",
    "* alignments: a directory with a series of fasta files (one per sequenced locus)\n",
    "* pop file: a file with population assignments for sampled individuals.\n",
    "\n",
    "**Model Information**\n",
    "* a configuration file\n",
    "* a species tree (or list of species trees)\n",
    "* a migration matrix (indicating whether migration is permitted between each set of populations)\n",
    "\n",
    "## Empirical Data\n",
    "\n",
    "### Alignments\n",
    "\n",
    "The user will provide a path to the alignments in the configuration file (see below). These alignments must be in fasta format, and there must be one alignment per locus. \n",
    "\n",
    "An example set of alignments is provided on GitHub in example/test1/alignments/.\n",
    "\n",
    "### Pop File\n",
    "\n",
    "The user will provide a path to a file assigning individuals to populations in the config file (see below). This file must consist of two columns, with the heading 'individual' and 'population'.\n",
    "\n",
    "An example population file is provided on GitHub in example/test1/populations.txt\n",
    "\n",
    "## Model Information\n",
    "\n",
    "### Configuration File \n",
    "\n"
   ]
  },
  {
   "cell_type": "markdown",
   "metadata": {},
   "source": []
  }
 ],
 "metadata": {
  "language_info": {
   "name": "python"
  }
 },
 "nbformat": 4,
 "nbformat_minor": 2
}
