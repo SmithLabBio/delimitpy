{
 "cells": [
  {
   "cell_type": "markdown",
   "metadata": {},
   "source": [
    "# Building a model set in delimitpy"
   ]
  },
  {
   "cell_type": "code",
   "execution_count": 6,
   "metadata": {},
   "outputs": [],
   "source": [
    "from delimitpy import generate_models"
   ]
  },
  {
   "cell_type": "markdown",
   "metadata": {},
   "source": [
    "## Parse the configuration file."
   ]
  },
  {
   "cell_type": "code",
   "execution_count": 7,
   "metadata": {},
   "outputs": [
    {
     "ename": "NameError",
     "evalue": "name 'generate_models' is not defined",
     "output_type": "error",
     "traceback": [
      "\u001b[0;31m---------------------------------------------------------------------------\u001b[0m",
      "\u001b[0;31mNameError\u001b[0m                                 Traceback (most recent call last)",
      "Cell \u001b[0;32mIn[7], line 1\u001b[0m\n\u001b[0;32m----> 1\u001b[0m config_parser \u001b[38;5;241m=\u001b[39m \u001b[43mgenerate_models\u001b[49m\u001b[38;5;241m.\u001b[39mModelConfigParser(\u001b[38;5;124m\"\u001b[39m\u001b[38;5;124mconfig.txt\u001b[39m\u001b[38;5;124m\"\u001b[39m)\n\u001b[1;32m      2\u001b[0m config_values \u001b[38;5;241m=\u001b[39m config_parser\u001b[38;5;241m.\u001b[39mparse_config()\n",
      "\u001b[0;31mNameError\u001b[0m: name 'generate_models' is not defined"
     ]
    }
   ],
   "source": [
    "config_parser = generate_models.ModelConfigParser(\"config.txt\")\n",
    "config_values = config_parser.parse_config()"
   ]
  }
 ],
 "metadata": {
  "kernelspec": {
   "display_name": "base",
   "language": "python",
   "name": "python3"
  },
  "language_info": {
   "codemirror_mode": {
    "name": "ipython",
    "version": 3
   },
   "file_extension": ".py",
   "mimetype": "text/x-python",
   "name": "python",
   "nbconvert_exporter": "python",
   "pygments_lexer": "ipython3",
   "version": "3.10.8"
  }
 },
 "nbformat": 4,
 "nbformat_minor": 2
}
