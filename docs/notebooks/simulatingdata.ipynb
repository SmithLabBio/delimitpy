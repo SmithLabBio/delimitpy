{
 "cells": [
  {
   "cell_type": "code",
   "execution_count": null,
   "metadata": {},
   "outputs": [],
   "source": [
    "# Simulate data\n",
    "downsampling={\"A\":8, \"B\":6, \"C\":6}\n",
    "data_simulator = simulate_data.DataSimulator(parameterized_models, labels, config=config_values, cores=1, downsampling=downsampling)\n",
    "\n",
    "simulated_ancestries = data_simulator.simulate_ancestry()\n",
    "simulated_mutations = data_simulator.simulate_mutations(simulated_ancestries)\n",
    "arrays = data_simulator.mutations_to_numpy(simulated_mutations)\n",
    "sfs = data_simulator.mutations_to_sfs(arrays)\n",
    "stats = data_simulator.mutations_to_stats(simulated_mutations)\n",
    "sfs_2d = data_simulator.mutations_to_2d_sfs(arrays)\n"
   ]
  }
 ],
 "metadata": {
  "language_info": {
   "name": "python"
  }
 },
 "nbformat": 4,
 "nbformat_minor": 2
}
