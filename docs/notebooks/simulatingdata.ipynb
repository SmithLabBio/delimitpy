{
 "cells": [
  {
   "cell_type": "code",
   "execution_count": 1,
   "metadata": {},
   "outputs": [
    {
     "ename": "NameError",
     "evalue": "name 'simulate_data' is not defined",
     "output_type": "error",
     "traceback": [
      "\u001b[0;31m---------------------------------------------------------------------------\u001b[0m",
      "\u001b[0;31mNameError\u001b[0m                                 Traceback (most recent call last)",
      "Cell \u001b[0;32mIn[1], line 3\u001b[0m\n\u001b[1;32m      1\u001b[0m \u001b[38;5;66;03m# Simulate data\u001b[39;00m\n\u001b[1;32m      2\u001b[0m downsampling\u001b[38;5;241m=\u001b[39m{\u001b[38;5;124m\"\u001b[39m\u001b[38;5;124mA\u001b[39m\u001b[38;5;124m\"\u001b[39m:\u001b[38;5;241m8\u001b[39m, \u001b[38;5;124m\"\u001b[39m\u001b[38;5;124mB\u001b[39m\u001b[38;5;124m\"\u001b[39m:\u001b[38;5;241m6\u001b[39m, \u001b[38;5;124m\"\u001b[39m\u001b[38;5;124mC\u001b[39m\u001b[38;5;124m\"\u001b[39m:\u001b[38;5;241m6\u001b[39m}\n\u001b[0;32m----> 3\u001b[0m data_simulator \u001b[38;5;241m=\u001b[39m \u001b[43msimulate_data\u001b[49m\u001b[38;5;241m.\u001b[39mDataSimulator(parameterized_models, labels, config\u001b[38;5;241m=\u001b[39mconfig_values, cores\u001b[38;5;241m=\u001b[39m\u001b[38;5;241m1\u001b[39m, downsampling\u001b[38;5;241m=\u001b[39mdownsampling)\n\u001b[1;32m      5\u001b[0m simulated_ancestries \u001b[38;5;241m=\u001b[39m data_simulator\u001b[38;5;241m.\u001b[39msimulate_ancestry()\n\u001b[1;32m      6\u001b[0m simulated_mutations \u001b[38;5;241m=\u001b[39m data_simulator\u001b[38;5;241m.\u001b[39msimulate_mutations(simulated_ancestries)\n",
      "\u001b[0;31mNameError\u001b[0m: name 'simulate_data' is not defined"
     ]
    }
   ],
   "source": [
    "from delimitpy import simulate_data\n",
    "# Simulate data\n",
    "downsampling={\"A\":8, \"B\":6, \"C\":6}\n",
    "data_simulator = simulate_data.DataSimulator(parameterized_models, labels, config=config_values, cores=1, downsampling=downsampling)\n",
    "\n",
    "simulated_ancestries = data_simulator.simulate_ancestry()\n",
    "simulated_mutations = data_simulator.simulate_mutations(simulated_ancestries)\n",
    "arrays = data_simulator.mutations_to_numpy(simulated_mutations)\n",
    "sfs = data_simulator.mutations_to_sfs(arrays)\n",
    "stats = data_simulator.mutations_to_stats(simulated_mutations)\n",
    "sfs_2d = data_simulator.mutations_to_2d_sfs(arrays)\n"
   ]
  },
  {
   "cell_type": "code",
   "execution_count": null,
   "metadata": {},
   "outputs": [],
   "source": []
  }
 ],
 "metadata": {
  "kernelspec": {
   "display_name": "base",
   "language": "python",
   "name": "python3"
  },
  "language_info": {
   "codemirror_mode": {
    "name": "ipython",
    "version": 3
   },
   "file_extension": ".py",
   "mimetype": "text/x-python",
   "name": "python",
   "nbconvert_exporter": "python",
   "pygments_lexer": "ipython3",
   "version": "3.10.8"
  }
 },
 "nbformat": 4,
 "nbformat_minor": 2
}
