{
 "cells": [
  {
   "cell_type": "markdown",
   "metadata": {},
   "source": [
    "# Simulate Data\n",
    "\n",
    "Now that we have built our models and processed our empirical data, we can simulate data under each model.\n",
    "\n",
    "We will simulate data with the same number of individuals and SNPs as our downprojected empirical data"
   ]
  },
  {
   "cell_type": "code",
   "execution_count": 6,
   "metadata": {},
   "outputs": [],
   "source": [
    "from delimitpy import simulate_data\n",
    "from delimitpy import parse_input\n",
    "import os\n",
    "import pickle\n",
    "import numpy as np"
   ]
  },
  {
   "cell_type": "markdown",
   "metadata": {},
   "source": [
    "## Read the configuration file, and provide info from \"Reading input data and building the SFS\"\n",
    "\n",
    "We will read our configuration dictionary into memory, along with our labels and parameterized models.\n",
    "\n",
    "We will provide our downsampling dictionary and the number of sites to use. We determined these values in the previous section of the tutorial."
   ]
  },
  {
   "cell_type": "code",
   "execution_count": 7,
   "metadata": {},
   "outputs": [],
   "source": [
    "# read the configuration file\n",
    "config_parser = parse_input.ModelConfigParser(\"../../examples/test1/config.txt\")\n",
    "config_values = config_parser.parse_config()\n",
    "\n",
    "# read the labels and models from memory.\n",
    "labels = np.load(os.path.join(config_values[\"output directory\"], 'labels.npy'), allow_pickle=True)\n",
    "with open(os.path.join(config_values[\"output directory\"], 'parameterized_models.pickle'), 'rb') as f:\n",
    "    parameterized_models = pickle.load(f)\n",
    "\n",
    "downsampling={\"A\":8, \"B\":6, \"C\":6} # based on building SFS results\n",
    "max_sites = 332 # based on building SFS results"
   ]
  },
  {
   "cell_type": "markdown",
   "metadata": {},
   "source": [
    "## Simulate the data\n",
    "\n",
    "We use the DataSimulator class to simulate data. The functions simulate_ancestry and simulate_mutations simulate ancestries and mutations using msprime. "
   ]
  },
  {
   "cell_type": "code",
   "execution_count": 8,
   "metadata": {},
   "outputs": [
    {
     "name": "stderr",
     "output_type": "stream",
     "text": [
      "INFO:delimitpy.simulate_data:Ancestry simulation execution time: 2.0542240142822266 seconds.\n",
      "INFO:delimitpy.simulate_data:Mutation simulation execution time: 0.5718109607696533 seconds.\n"
     ]
    }
   ],
   "source": [
    "data_simulator = simulate_data.DataSimulator(parameterized_models, labels, config=config_values, cores=1, downsampling=downsampling, max_sites = max_sites)\n",
    "\n",
    "simulated_ancestries = data_simulator.simulate_ancestry() # simulate ancestry in msprime\n",
    "simulated_mutations = data_simulator.simulate_mutations(simulated_ancestries) # simulate mutations in msprime"
   ]
  },
  {
   "cell_type": "markdown",
   "metadata": {},
   "source": [
    "## Generate sfs from simulated data\n",
    "\n",
    "Now, we convert our mutations to a numpy array and generate multidimensional SFS and 2-dimensional SFS."
   ]
  },
  {
   "cell_type": "code",
   "execution_count": 4,
   "metadata": {},
   "outputs": [
    {
     "name": "stderr",
     "output_type": "stream",
     "text": [
      "INFO:delimitpy.simulate_data:Median simulated data has 1267 SNPs, and your input has 1038 SNPs.If these numbers are very different, you may want to change some priors.\n"
     ]
    }
   ],
   "source": [
    "arrays = data_simulator.mutations_to_numpy(simulated_mutations) # convert to numpy array\n",
    "mSFS = data_simulator.mutations_to_sfs(arrays) # generate mSFS\n",
    "jSFS = data_simulator.mutations_to_2d_sfs(arrays) # generate 2D SFS"
   ]
  },
  {
   "cell_type": "markdown",
   "metadata": {},
   "source": [
    "## Save the simulated datasets\n",
    "\n",
    "Save the simulated datasets, so we can use them in the next part of the tutorial"
   ]
  },
  {
   "cell_type": "code",
   "execution_count": 5,
   "metadata": {},
   "outputs": [],
   "source": [
    "np.save(os.path.join(config_values[\"output directory\"], 'mSFS.npy'), np.array(mSFS), allow_pickle=True)\n",
    "with open(os.path.join(config_values[\"output directory\"], 'jSFS.pickle'), 'wb') as f:\n",
    "    pickle.dump(jSFS, f)"
   ]
  }
 ],
 "metadata": {
  "kernelspec": {
   "display_name": "base",
   "language": "python",
   "name": "python3"
  },
  "language_info": {
   "codemirror_mode": {
    "name": "ipython",
    "version": 3
   },
   "file_extension": ".py",
   "mimetype": "text/x-python",
   "name": "python",
   "nbconvert_exporter": "python",
   "pygments_lexer": "ipython3",
   "version": "3.10.8"
  }
 },
 "nbformat": 4,
 "nbformat_minor": 2
}
