{
 "cells": [
  {
   "cell_type": "code",
   "execution_count": 1,
   "metadata": {},
   "outputs": [
    {
     "name": "stderr",
     "output_type": "stream",
     "text": [
      "INFO:delimitpy.simulate_data:Ancestry simulation execution time: 1.9712178707122803 seconds.\n",
      "INFO:delimitpy.simulate_data:Mutation simulation execution time: 0.5704119205474854 seconds.\n",
      "INFO:delimitpy.simulate_data:Median simulated data has 1267 basepairs, and your input has 17167 basepairs.If these numbers are very different, you may want to change some priors.\n"
     ]
    }
   ],
   "source": [
    "from delimitpy import simulate_data\n",
    "from delimitpy import parse_input\n",
    "import os\n",
    "import pickle\n",
    "import numpy as np\n",
    "\n",
    "# Simulate data\n",
    "\n",
    "# read the configuraiton file\n",
    "config_parser = parse_input.ModelConfigParser(\"../../examples/test1/config.txt\")\n",
    "config_values = config_parser.parse_config()\n",
    "\n",
    "labels = np.load(os.path.join(config_values[\"output directory\"], 'labels.npy'), allow_pickle=True)\n",
    "with open(os.path.join(config_values[\"output directory\"], 'parameterized_models.pickle'), 'rb') as f:\n",
    "    parameterized_models = pickle.load(f)\n",
    "\n",
    "downsampling={\"A\":8, \"B\":6, \"C\":6}\n",
    "data_simulator = simulate_data.DataSimulator(parameterized_models, labels, config=config_values, cores=1, downsampling=downsampling)\n",
    "\n",
    "simulated_ancestries = data_simulator.simulate_ancestry()\n",
    "simulated_mutations = data_simulator.simulate_mutations(simulated_ancestries)\n",
    "arrays = data_simulator.mutations_to_numpy(simulated_mutations)\n",
    "sfs = data_simulator.mutations_to_sfs(arrays)\n",
    "sfs_2d = data_simulator.mutations_to_2d_sfs(arrays)\n"
   ]
  },
  {
   "cell_type": "code",
   "execution_count": null,
   "metadata": {},
   "outputs": [],
   "source": []
  }
 ],
 "metadata": {
  "kernelspec": {
   "display_name": "base",
   "language": "python",
   "name": "python3"
  },
  "language_info": {
   "codemirror_mode": {
    "name": "ipython",
    "version": 3
   },
   "file_extension": ".py",
   "mimetype": "text/x-python",
   "name": "python",
   "nbconvert_exporter": "python",
   "pygments_lexer": "ipython3",
   "version": "3.10.8"
  }
 },
 "nbformat": 4,
 "nbformat_minor": 2
}
