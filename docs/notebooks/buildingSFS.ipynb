{
 "cells": [
  {
   "cell_type": "markdown",
   "metadata": {},
   "source": [
    "# Reading input data and building the SFS\n",
    "\n",
    "The first step when running delimitpy is to read the input alignments and use them to construct a site frequency spectrum (SFS)."
   ]
  },
  {
   "cell_type": "code",
   "execution_count": 1,
   "metadata": {},
   "outputs": [],
   "source": [
    "from delimitpy import parse_input\n",
    "from delimitpy import process_empirical\n",
    "import numpy as np\n",
    "import os\n",
    "import pickle"
   ]
  },
  {
   "cell_type": "markdown",
   "metadata": {},
   "source": [
    "# Read in intermediate files from previous part of tutorial.\n"
   ]
  },
  {
   "cell_type": "code",
   "execution_count": 2,
   "metadata": {},
   "outputs": [],
   "source": [
    "config_parser = parse_input.ModelConfigParser(\"../../examples/test1/config.txt\")\n",
    "config_values = config_parser.parse_config()\n",
    "labels = np.load(os.path.join(config_values[\"output directory\"], 'labels.npy'), allow_pickle=True)\n",
    "with open(os.path.join(config_values[\"output directory\"], 'parameterized_models.pickle'), 'rb') as f:\n",
    "    parameterized_models = pickle.load(f)\n"
   ]
  },
  {
   "cell_type": "code",
   "execution_count": 6,
   "metadata": {},
   "outputs": [
    {
     "name": "stdout",
     "output_type": "stream",
     "text": [
      "(30, 21548)\n",
      "updated\n",
      "(30, 1038)\n",
      "finding projection values\n",
      "1038\n"
     ]
    }
   ],
   "source": [
    "data_processor = process_empirical.DataProcessor(parameterized_models, config=config_values)\n",
    "empirical_array = data_processor.fasta_to_numpy()\n",
    "print(empirical_array.shape)\n",
    "empirical_2d_sfs_sampling = data_processor.find_downsampling(empirical_array)\n",
    "print(empirical_2d_sfs_sampling[(6,4,5)])\n",
    "\n"
   ]
  },
  {
   "cell_type": "code",
   "execution_count": 9,
   "metadata": {},
   "outputs": [
    {
     "name": "stdout",
     "output_type": "stream",
     "text": [
      "build sfs\n"
     ]
    }
   ],
   "source": [
    "empirical_2d_sfs = data_processor.numpy_to_2d_sfs(empirical_array, downsampling={\"A\":6, \"B\":4, \"C\":5}, replicates = 10)\n",
    "empirical_msfs = data_processor.numpy_to_msfs(empirical_array, downsampling={\"A\":6, \"B\": 4, \"C\":5}, replicates = 10)\n"
   ]
  }
 ],
 "metadata": {
  "kernelspec": {
   "display_name": "base",
   "language": "python",
   "name": "python3"
  },
  "language_info": {
   "codemirror_mode": {
    "name": "ipython",
    "version": 3
   },
   "file_extension": ".py",
   "mimetype": "text/x-python",
   "name": "python",
   "nbconvert_exporter": "python",
   "pygments_lexer": "ipython3",
   "version": "3.10.8"
  }
 },
 "nbformat": 4,
 "nbformat_minor": 2
}
