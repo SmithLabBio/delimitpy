{
 "cells": [
  {
   "cell_type": "markdown",
   "metadata": {},
   "source": [
    "# Reading input data and building the SFS\n",
    "\n",
    "Now that our models are set up, we are ready to read out input data and convert it into site frequency spectra."
   ]
  },
  {
   "cell_type": "code",
   "execution_count": 1,
   "metadata": {},
   "outputs": [],
   "source": [
    "from delimitpy import parse_input\n",
    "from delimitpy import process_empirical\n",
    "import numpy as np\n",
    "import os\n",
    "import pickle"
   ]
  },
  {
   "cell_type": "markdown",
   "metadata": {},
   "source": [
    "# Parse configuration files and read in intermediate files from previous part of tutorial.\n",
    "\n",
    "We need to read our config file into memory again, and we need to read the files that were created in the 'Building a Model Set' notebook.\n",
    "\n",
    "The test data we are using was simulated under a model with three populations and no gene flow. "
   ]
  },
  {
   "cell_type": "code",
   "execution_count": 2,
   "metadata": {},
   "outputs": [],
   "source": [
    "# read the configuraiton file\n",
    "config_parser = parse_input.ModelConfigParser(\"../../examples/test1/config.txt\")\n",
    "config_values = config_parser.parse_config()\n",
    "\n",
    "# read the labels and parameterized files\n",
    "labels = np.load(os.path.join(config_values[\"output directory\"], 'labels.npy'), allow_pickle=True)\n",
    "with open(os.path.join(config_values[\"output directory\"], 'parameterized_models.pickle'), 'rb') as f:\n",
    "    parameterized_models = pickle.load(f)\n"
   ]
  },
  {
   "cell_type": "markdown",
   "metadata": {},
   "source": [
    "# Read empirical data, and convert it into a numpy array.\n",
    "\n",
    "First, generate our data processor. Then, we convert our folder of fasta files into a numpy array. We will keep the same number of sites that we kept for simulated data. Missing data will be encoded as -1 (any sites in the alignment other than A, T, C, and G will be converted to -1)."
   ]
  },
  {
   "cell_type": "code",
   "execution_count": 3,
   "metadata": {},
   "outputs": [
    {
     "name": "stdout",
     "output_type": "stream",
     "text": [
      "(30, 1038)\n"
     ]
    }
   ],
   "source": [
    "# create our data processor, and convert our fastas to a numpy array\n",
    "data_processor = process_empirical.DataProcessor(parameterized_models, config=config_values)\n",
    "empirical_array = data_processor.fasta_to_numpy()\n",
    "print(empirical_array.shape) # print the shape of our array: (individuals, SNPs)."
   ]
  },
  {
   "cell_type": "markdown",
   "metadata": {},
   "source": [
    "# Choose projection for site-frequency-spectrum\n",
    "\n",
    "SFS cannot be generated from datasets that include missing data. To circumvent this, we use a downsampling approach such as that described in Satler and Carstens (2017, Molecular Ecology, doi: 10.1111/mec.14137.) We must choose thresholds for each populations (i.e., the minumum number of individuals that must be sampled for a SNP to be used.) To help with this, we use the function find_downsampling from the class DataProcessor. This function generates a dictionary that holds the number of SNPs that meet each threshold."
   ]
  },
  {
   "cell_type": "code",
   "execution_count": 4,
   "metadata": {},
   "outputs": [
    {
     "name": "stdout",
     "output_type": "stream",
     "text": [
      "{(1, 1, 1): 1038, (1, 1, 2): 1038, (1, 1, 3): 1038, (1, 1, 4): 1038, (1, 1, 5): 1038, (1, 1, 6): 1038, (1, 1, 7): 1037, (1, 2, 1): 1038, (1, 2, 2): 1038, (1, 2, 3): 1038, (1, 2, 4): 1038, (1, 2, 5): 1038, (1, 2, 6): 1038, (1, 2, 7): 1037, (1, 3, 1): 1038, (1, 3, 2): 1038, (1, 3, 3): 1038, (1, 3, 4): 1038, (1, 3, 5): 1038, (1, 3, 6): 1038, (1, 3, 7): 1037, (1, 4, 1): 1038, (1, 4, 2): 1038, (1, 4, 3): 1038, (1, 4, 4): 1038, (1, 4, 5): 1038, (1, 4, 6): 1038, (1, 4, 7): 1037, (1, 5, 1): 1038, (1, 5, 2): 1038, (1, 5, 3): 1038, (1, 5, 4): 1038, (1, 5, 5): 1038, (1, 5, 6): 1038, (1, 5, 7): 1037, (1, 6, 1): 1035, (1, 6, 2): 1035, (1, 6, 3): 1035, (1, 6, 4): 1035, (1, 6, 5): 1035, (1, 6, 6): 1035, (1, 6, 7): 1034, (2, 1, 1): 1038, (2, 1, 2): 1038, (2, 1, 3): 1038, (2, 1, 4): 1038, (2, 1, 5): 1038, (2, 1, 6): 1038, (2, 1, 7): 1037, (2, 2, 1): 1038, (2, 2, 2): 1038, (2, 2, 3): 1038, (2, 2, 4): 1038, (2, 2, 5): 1038, (2, 2, 6): 1038, (2, 2, 7): 1037, (2, 3, 1): 1038, (2, 3, 2): 1038, (2, 3, 3): 1038, (2, 3, 4): 1038, (2, 3, 5): 1038, (2, 3, 6): 1038, (2, 3, 7): 1037, (2, 4, 1): 1038, (2, 4, 2): 1038, (2, 4, 3): 1038, (2, 4, 4): 1038, (2, 4, 5): 1038, (2, 4, 6): 1038, (2, 4, 7): 1037, (2, 5, 1): 1038, (2, 5, 2): 1038, (2, 5, 3): 1038, (2, 5, 4): 1038, (2, 5, 5): 1038, (2, 5, 6): 1038, (2, 5, 7): 1037, (2, 6, 1): 1035, (2, 6, 2): 1035, (2, 6, 3): 1035, (2, 6, 4): 1035, (2, 6, 5): 1035, (2, 6, 6): 1035, (2, 6, 7): 1034, (3, 1, 1): 1038, (3, 1, 2): 1038, (3, 1, 3): 1038, (3, 1, 4): 1038, (3, 1, 5): 1038, (3, 1, 6): 1038, (3, 1, 7): 1037, (3, 2, 1): 1038, (3, 2, 2): 1038, (3, 2, 3): 1038, (3, 2, 4): 1038, (3, 2, 5): 1038, (3, 2, 6): 1038, (3, 2, 7): 1037, (3, 3, 1): 1038, (3, 3, 2): 1038, (3, 3, 3): 1038, (3, 3, 4): 1038, (3, 3, 5): 1038, (3, 3, 6): 1038, (3, 3, 7): 1037, (3, 4, 1): 1038, (3, 4, 2): 1038, (3, 4, 3): 1038, (3, 4, 4): 1038, (3, 4, 5): 1038, (3, 4, 6): 1038, (3, 4, 7): 1037, (3, 5, 1): 1038, (3, 5, 2): 1038, (3, 5, 3): 1038, (3, 5, 4): 1038, (3, 5, 5): 1038, (3, 5, 6): 1038, (3, 5, 7): 1037, (3, 6, 1): 1035, (3, 6, 2): 1035, (3, 6, 3): 1035, (3, 6, 4): 1035, (3, 6, 5): 1035, (3, 6, 6): 1035, (3, 6, 7): 1034, (4, 1, 1): 1038, (4, 1, 2): 1038, (4, 1, 3): 1038, (4, 1, 4): 1038, (4, 1, 5): 1038, (4, 1, 6): 1038, (4, 1, 7): 1037, (4, 2, 1): 1038, (4, 2, 2): 1038, (4, 2, 3): 1038, (4, 2, 4): 1038, (4, 2, 5): 1038, (4, 2, 6): 1038, (4, 2, 7): 1037, (4, 3, 1): 1038, (4, 3, 2): 1038, (4, 3, 3): 1038, (4, 3, 4): 1038, (4, 3, 5): 1038, (4, 3, 6): 1038, (4, 3, 7): 1037, (4, 4, 1): 1038, (4, 4, 2): 1038, (4, 4, 3): 1038, (4, 4, 4): 1038, (4, 4, 5): 1038, (4, 4, 6): 1038, (4, 4, 7): 1037, (4, 5, 1): 1038, (4, 5, 2): 1038, (4, 5, 3): 1038, (4, 5, 4): 1038, (4, 5, 5): 1038, (4, 5, 6): 1038, (4, 5, 7): 1037, (4, 6, 1): 1035, (4, 6, 2): 1035, (4, 6, 3): 1035, (4, 6, 4): 1035, (4, 6, 5): 1035, (4, 6, 6): 1035, (4, 6, 7): 1034, (5, 1, 1): 1038, (5, 1, 2): 1038, (5, 1, 3): 1038, (5, 1, 4): 1038, (5, 1, 5): 1038, (5, 1, 6): 1038, (5, 1, 7): 1037, (5, 2, 1): 1038, (5, 2, 2): 1038, (5, 2, 3): 1038, (5, 2, 4): 1038, (5, 2, 5): 1038, (5, 2, 6): 1038, (5, 2, 7): 1037, (5, 3, 1): 1038, (5, 3, 2): 1038, (5, 3, 3): 1038, (5, 3, 4): 1038, (5, 3, 5): 1038, (5, 3, 6): 1038, (5, 3, 7): 1037, (5, 4, 1): 1038, (5, 4, 2): 1038, (5, 4, 3): 1038, (5, 4, 4): 1038, (5, 4, 5): 1038, (5, 4, 6): 1038, (5, 4, 7): 1037, (5, 5, 1): 1038, (5, 5, 2): 1038, (5, 5, 3): 1038, (5, 5, 4): 1038, (5, 5, 5): 1038, (5, 5, 6): 1038, (5, 5, 7): 1037, (5, 6, 1): 1035, (5, 6, 2): 1035, (5, 6, 3): 1035, (5, 6, 4): 1035, (5, 6, 5): 1035, (5, 6, 6): 1035, (5, 6, 7): 1034, (6, 1, 1): 1038, (6, 1, 2): 1038, (6, 1, 3): 1038, (6, 1, 4): 1038, (6, 1, 5): 1038, (6, 1, 6): 1038, (6, 1, 7): 1037, (6, 2, 1): 1038, (6, 2, 2): 1038, (6, 2, 3): 1038, (6, 2, 4): 1038, (6, 2, 5): 1038, (6, 2, 6): 1038, (6, 2, 7): 1037, (6, 3, 1): 1038, (6, 3, 2): 1038, (6, 3, 3): 1038, (6, 3, 4): 1038, (6, 3, 5): 1038, (6, 3, 6): 1038, (6, 3, 7): 1037, (6, 4, 1): 1038, (6, 4, 2): 1038, (6, 4, 3): 1038, (6, 4, 4): 1038, (6, 4, 5): 1038, (6, 4, 6): 1038, (6, 4, 7): 1037, (6, 5, 1): 1038, (6, 5, 2): 1038, (6, 5, 3): 1038, (6, 5, 4): 1038, (6, 5, 5): 1038, (6, 5, 6): 1038, (6, 5, 7): 1037, (6, 6, 1): 1035, (6, 6, 2): 1035, (6, 6, 3): 1035, (6, 6, 4): 1035, (6, 6, 5): 1035, (6, 6, 6): 1035, (6, 6, 7): 1034, (7, 1, 1): 1038, (7, 1, 2): 1038, (7, 1, 3): 1038, (7, 1, 4): 1038, (7, 1, 5): 1038, (7, 1, 6): 1038, (7, 1, 7): 1037, (7, 2, 1): 1038, (7, 2, 2): 1038, (7, 2, 3): 1038, (7, 2, 4): 1038, (7, 2, 5): 1038, (7, 2, 6): 1038, (7, 2, 7): 1037, (7, 3, 1): 1038, (7, 3, 2): 1038, (7, 3, 3): 1038, (7, 3, 4): 1038, (7, 3, 5): 1038, (7, 3, 6): 1038, (7, 3, 7): 1037, (7, 4, 1): 1038, (7, 4, 2): 1038, (7, 4, 3): 1038, (7, 4, 4): 1038, (7, 4, 5): 1038, (7, 4, 6): 1038, (7, 4, 7): 1037, (7, 5, 1): 1038, (7, 5, 2): 1038, (7, 5, 3): 1038, (7, 5, 4): 1038, (7, 5, 5): 1038, (7, 5, 6): 1038, (7, 5, 7): 1037, (7, 6, 1): 1035, (7, 6, 2): 1035, (7, 6, 3): 1035, (7, 6, 4): 1035, (7, 6, 5): 1035, (7, 6, 6): 1035, (7, 6, 7): 1034, (8, 1, 1): 1037, (8, 1, 2): 1037, (8, 1, 3): 1037, (8, 1, 4): 1037, (8, 1, 5): 1037, (8, 1, 6): 1037, (8, 1, 7): 1036, (8, 2, 1): 1037, (8, 2, 2): 1037, (8, 2, 3): 1037, (8, 2, 4): 1037, (8, 2, 5): 1037, (8, 2, 6): 1037, (8, 2, 7): 1036, (8, 3, 1): 1037, (8, 3, 2): 1037, (8, 3, 3): 1037, (8, 3, 4): 1037, (8, 3, 5): 1037, (8, 3, 6): 1037, (8, 3, 7): 1036, (8, 4, 1): 1037, (8, 4, 2): 1037, (8, 4, 3): 1037, (8, 4, 4): 1037, (8, 4, 5): 1037, (8, 4, 6): 1037, (8, 4, 7): 1036, (8, 5, 1): 1037, (8, 5, 2): 1037, (8, 5, 3): 1037, (8, 5, 4): 1037, (8, 5, 5): 1037, (8, 5, 6): 1037, (8, 5, 7): 1036, (8, 6, 1): 1034, (8, 6, 2): 1034, (8, 6, 3): 1034, (8, 6, 4): 1034, (8, 6, 5): 1034, (8, 6, 6): 1034, (8, 6, 7): 1033, (9, 1, 1): 1037, (9, 1, 2): 1037, (9, 1, 3): 1037, (9, 1, 4): 1037, (9, 1, 5): 1037, (9, 1, 6): 1037, (9, 1, 7): 1036, (9, 2, 1): 1037, (9, 2, 2): 1037, (9, 2, 3): 1037, (9, 2, 4): 1037, (9, 2, 5): 1037, (9, 2, 6): 1037, (9, 2, 7): 1036, (9, 3, 1): 1037, (9, 3, 2): 1037, (9, 3, 3): 1037, (9, 3, 4): 1037, (9, 3, 5): 1037, (9, 3, 6): 1037, (9, 3, 7): 1036, (9, 4, 1): 1037, (9, 4, 2): 1037, (9, 4, 3): 1037, (9, 4, 4): 1037, (9, 4, 5): 1037, (9, 4, 6): 1037, (9, 4, 7): 1036, (9, 5, 1): 1037, (9, 5, 2): 1037, (9, 5, 3): 1037, (9, 5, 4): 1037, (9, 5, 5): 1037, (9, 5, 6): 1037, (9, 5, 7): 1036, (9, 6, 1): 1034, (9, 6, 2): 1034, (9, 6, 3): 1034, (9, 6, 4): 1034, (9, 6, 5): 1034, (9, 6, 6): 1034, (9, 6, 7): 1033}\n"
     ]
    }
   ],
   "source": [
    "# generate dictionary with the number of SNPs at different sampling thresholds\n",
    "empirical_2d_sfs_sampling = data_processor.find_downsampling(empirical_array)\n",
    "\n",
    "# print threshold, SNP combos for thresholds with at least 1030 snps\n",
    "minspns = 1030\n",
    "min1000 = {key: value for key, value in empirical_2d_sfs_sampling.items() if value >= minspns}\n",
    "print(min1000)\n"
   ]
  },
  {
   "cell_type": "markdown",
   "metadata": {},
   "source": [
    "# Down-project the SFS\n",
    "\n",
    "Now, we must choose a threshold. I will choose (9,6,7), as it is the largest combination of thresholds that gives us more than 1030 SNPs."
   ]
  },
  {
   "cell_type": "code",
   "execution_count": 5,
   "metadata": {},
   "outputs": [],
   "source": [
    "# build 10 replicates of the 2d SFS\n",
    "empirical_2d_sfs = data_processor.numpy_to_2d_sfs(empirical_array, downsampling={\"A\":9, \"B\":7, \"C\":6}, replicates = 10)\n",
    "\n",
    "# build 10 replicates of the mSFS\n",
    "empirical_msfs = data_processor.numpy_to_msfs(empirical_array, downsampling={\"A\":9, \"B\": 7, \"C\":6}, replicates = 10)"
   ]
  }
 ],
 "metadata": {
  "kernelspec": {
   "display_name": "base",
   "language": "python",
   "name": "python3"
  },
  "language_info": {
   "codemirror_mode": {
    "name": "ipython",
    "version": 3
   },
   "file_extension": ".py",
   "mimetype": "text/x-python",
   "name": "python",
   "nbconvert_exporter": "python",
   "pygments_lexer": "ipython3",
   "version": "3.10.8"
  }
 },
 "nbformat": 4,
 "nbformat_minor": 2
}
